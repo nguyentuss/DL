{
 "cells": [
  {
   "cell_type": "code",
   "execution_count": 30,
   "metadata": {},
   "outputs": [
    {
     "name": "stdout",
     "output_type": "stream",
     "text": [
      "The autoreload extension is already loaded. To reload it, use:\n",
      "  %reload_ext autoreload\n"
     ]
    }
   ],
   "source": [
    "import torch\n",
    "import matplotlib.pyplot as plt\n",
    "from mf import MF\n",
    "\n",
    "device = torch.device(\"cuda\" if torch.cuda.is_available() else \"cpu\")\n",
    "%load_ext autoreload\n",
    "%autoreload 2"
   ]
  },
  {
   "cell_type": "markdown",
   "metadata": {},
   "source": [
    "## Preparing the Test data"
   ]
  },
  {
   "cell_type": "code",
   "execution_count": 31,
   "metadata": {},
   "outputs": [
    {
     "name": "stdout",
     "output_type": "stream",
     "text": [
      "   user_id  item_id  rating  timestamp\n",
      "0      196      242       3  881250949\n",
      "1      186      302       3  891717742\n",
      "2       22      377       1  878887116\n",
      "3      244       51       2  880606923\n",
      "4      166      346       1  886397596\n"
     ]
    }
   ],
   "source": [
    "from torch.utils.data import DataLoader, TensorDataset, random_split\n",
    "import pandas as pd\n",
    "\n",
    "# URL for MovieLens 100k dataset (you can change the URL for other versions)\n",
    "url = 'https://files.grouplens.org/datasets/movielens/ml-100k/u.data'\n",
    "\n",
    "# Load the dataset directly into a pandas DataFrame\n",
    "df = pd.read_csv(url, sep='\\t', header=None, names=['user_id', 'item_id', 'rating', 'timestamp'])\n",
    "\n",
    "print(df.head())"
   ]
  },
  {
   "cell_type": "markdown",
   "metadata": {},
   "source": [
    "## Mapping the value"
   ]
  },
  {
   "cell_type": "code",
   "execution_count": 37,
   "metadata": {},
   "outputs": [
    {
     "name": "stdout",
     "output_type": "stream",
     "text": [
      "   user_id  item_id  rating  timestamp\n",
      "0        0        0       3  881250949\n",
      "1        1        1       3  891717742\n",
      "2        2        2       1  878887116\n",
      "3        3        3       2  880606923\n",
      "4        4        4       1  886397596\n"
     ]
    }
   ],
   "source": [
    "# Take the unique value and mapping it\n",
    "user_mapping = {user_id: idx for idx, user_id in enumerate(df['user_id'].unique())} \n",
    "item_mapping = {item_id: idx for idx, item_id in enumerate(df['item_id'].unique())}\n",
    "\n",
    "# Applying the mappings\n",
    "df['user_id'] = df['user_id'].map(user_mapping)\n",
    "df['item_id'] = df['item_id'].map(item_mapping)\n",
    "\n",
    "print(df.head())"
   ]
  },
  {
   "cell_type": "markdown",
   "metadata": {},
   "source": [
    "## Split the data"
   ]
  },
  {
   "cell_type": "code",
   "execution_count": 33,
   "metadata": {},
   "outputs": [],
   "source": [
    "\n",
    "# Convert from DataFrame into PyTorch tensor\n",
    "user_tensor = torch.tensor(df['user_id'].values,dtype=torch.long)\n",
    "item_tensor = torch.tensor(df['item_id'].values,dtype=torch.long)\n",
    "rating_tensor = torch.tensor(df['rating'].values,dtype=torch.float)\n",
    "\n",
    "# Create a dataset\n",
    "dataset = TensorDataset(user_tensor, item_tensor, rating_tensor)\n",
    "\n",
    "# Split the dataset into 70% training, 15% validation, and 15% test\n",
    "train_size = int(0.7 * len(dataset))\n",
    "val_size = int(0.15 * len(dataset))\n",
    "test_size = len(dataset) - train_size - val_size\n",
    "\n",
    "train_data, val_data, test_data = random_split(dataset, [train_size, val_size, test_size])\n",
    "\n",
    "# Create a dataLoader for training, validation, and testing\n",
    "batch_size = 64\n",
    "train_loader = DataLoader(train_data, batch_size=batch_size, shuffle=True)\n",
    "val_loader = DataLoader(val_data, batch_size=batch_size, shuffle=False)\n",
    "test_loader = DataLoader(test_data, batch_size=batch_size, shuffle=False)"
   ]
  },
  {
   "cell_type": "markdown",
   "metadata": {},
   "source": [
    "## Training"
   ]
  },
  {
   "cell_type": "code",
   "execution_count": 38,
   "metadata": {},
   "outputs": [
    {
     "name": "stdout",
     "output_type": "stream",
     "text": [
      "Epoch 1/25, Train Loss: 4.9572, Val Loss: 1.0737, Time: 2.94s\n",
      "Epoch 2/25, Train Loss: 1.0129, Val Loss: 0.9850, Time: 3.60s\n",
      "Epoch 3/25, Train Loss: 0.9337, Val Loss: 0.9767, Time: 3.36s\n",
      "Epoch 4/25, Train Loss: 0.9096, Val Loss: 0.9747, Time: 3.84s\n",
      "Epoch 5/25, Train Loss: 0.8863, Val Loss: 0.9655, Time: 3.56s\n",
      "Epoch 6/25, Train Loss: 0.8459, Val Loss: 0.9580, Time: 3.77s\n",
      "Epoch 7/25, Train Loss: 0.7990, Val Loss: 0.9512, Time: 3.59s\n",
      "Epoch 8/25, Train Loss: 0.7422, Val Loss: 0.9481, Time: 3.69s\n",
      "Epoch 9/25, Train Loss: 0.6834, Val Loss: 0.9491, Time: 3.65s\n",
      "Epoch 10/25, Train Loss: 0.6185, Val Loss: 0.9531, Time: 3.96s\n",
      "Epoch 11/25, Train Loss: 0.5180, Val Loss: 0.9414, Time: 3.77s\n",
      "Epoch 12/25, Train Loss: 0.4990, Val Loss: 0.9390, Time: 4.04s\n",
      "Epoch 13/25, Train Loss: 0.4889, Val Loss: 0.9391, Time: 3.90s\n",
      "Epoch 14/25, Train Loss: 0.4807, Val Loss: 0.9397, Time: 3.74s\n",
      "Epoch 15/25, Train Loss: 0.4732, Val Loss: 0.9406, Time: 4.35s\n",
      "Epoch 16/25, Train Loss: 0.4659, Val Loss: 0.9419, Time: 4.19s\n",
      "Epoch 17/25, Train Loss: 0.4588, Val Loss: 0.9432, Time: 3.80s\n",
      "Epoch 18/25, Train Loss: 0.4518, Val Loss: 0.9443, Time: 3.94s\n",
      "Epoch 19/25, Train Loss: 0.4450, Val Loss: 0.9456, Time: 3.80s\n",
      "Epoch 20/25, Train Loss: 0.4381, Val Loss: 0.9470, Time: 3.94s\n",
      "Epoch 21/25, Train Loss: 0.4252, Val Loss: 0.9471, Time: 3.98s\n",
      "Epoch 22/25, Train Loss: 0.4245, Val Loss: 0.9472, Time: 3.91s\n",
      "Epoch 23/25, Train Loss: 0.4238, Val Loss: 0.9473, Time: 4.49s\n",
      "Epoch 24/25, Train Loss: 0.4231, Val Loss: 0.9475, Time: 4.05s\n",
      "Epoch 25/25, Train Loss: 0.4224, Val Loss: 0.9476, Time: 3.71s\n"
     ]
    }
   ],
   "source": [
    "model = MF(num_users=len(user_mapping)\n",
    "           , num_items= len(item_mapping)\n",
    "           , num_factors=30\n",
    "           , device=device)\n",
    "\n",
    "train_losses, val_losses = model.train_model(train_loader, val_loader,\n",
    "                                         num_epochs=25,lr=0.002, reg=1e-5)\n"
   ]
  },
  {
   "cell_type": "markdown",
   "metadata": {},
   "source": [
    "## Plot the Loss function"
   ]
  },
  {
   "cell_type": "code",
   "execution_count": 35,
   "metadata": {},
   "outputs": [
    {
     "data": {
      "image/png": "[encoded data removed]",
      "text/plain": [
       "<Figure size 640x480 with 1 Axes>"
      ]
     },
     "metadata": {},
     "output_type": "display_data"
    }
   ],
   "source": [
    "plt.plot( train_losses, label=\"Train Loss over epoch\")\n",
    "plt.plot( val_losses, label = \"Val Loss over epoch\")\n",
    "plt.xlabel(\"Epoch\")\n",
    "plt.ylabel(\"Loss\")\n",
    "plt.title(\"Training Loss Curve\")\n",
    "plt.legend()\n",
    "plt.show()"
   ]
  },
  {
   "cell_type": "markdown",
   "metadata": {},
   "source": [
    "## Compute the test loss"
   ]
  },
  {
   "cell_type": "code",
   "execution_count": 36,
   "metadata": {},
   "outputs": [
    {
     "name": "stdout",
     "output_type": "stream",
     "text": [
      "Test Loss:  0.9455321896011043\n"
     ]
    }
   ],
   "source": [
    "print(\"Test Loss: \",model.evaluate(test_loader=test_loader))"
   ]
  }
 ],
 "metadata": {
  "kernelspec": {
   "display_name": "AI",
   "language": "python",
   "name": "python3"
  },
  "language_info": {
   "codemirror_mode": {
    "name": "ipython",
    "version": 3
   },
   "file_extension": ".py",
   "mimetype": "text/x-python",
   "name": "python",
   "nbconvert_exporter": "python",
   "pygments_lexer": "ipython3",
   "version": "3.13.2"
  }
 },
 "nbformat": 4,
 "nbformat_minor": 2
}
