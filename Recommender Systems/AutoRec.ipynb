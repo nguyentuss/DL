{
 "cells": [
  {
   "cell_type": "code",
   "execution_count": 58,
   "metadata": {},
   "outputs": [
    {
     "name": "stdout",
     "output_type": "stream",
     "text": [
      "The autoreload extension is already loaded. To reload it, use:\n",
      "  %reload_ext autoreload\n"
     ]
    }
   ],
   "source": [
    "import torch\n",
    "import matplotlib.pyplot as plt\n",
    "\n",
    "device = torch.device(\"cuda\" if torch.cuda.is_available() else \"cpu\")\n",
    "%load_ext autoreload\n",
    "%autoreload 2"
   ]
  },
  {
   "cell_type": "markdown",
   "metadata": {},
   "source": [
    "## Preparing the Test data"
   ]
  },
  {
   "cell_type": "code",
   "execution_count": 59,
   "metadata": {},
   "outputs": [
    {
     "name": "stdout",
     "output_type": "stream",
     "text": [
      "   user_id  item_id  rating  timestamp\n",
      "0      196      242       3  881250949\n",
      "1      186      302       3  891717742\n",
      "2       22      377       1  878887116\n",
      "3      244       51       2  880606923\n",
      "4      166      346       1  886397596\n"
     ]
    }
   ],
   "source": [
    "from torch.utils.data import DataLoader, TensorDataset, random_split\n",
    "import pandas as pd\n",
    "\n",
    "# URL for MovieLens 100k dataset (you can change the URL for other versions)\n",
    "url = 'https://files.grouplens.org/datasets/movielens/ml-100k/u.data'\n",
    "\n",
    "# Load the dataset directly into a pandas DataFrame\n",
    "df = pd.read_csv(url, sep='\\t', header=None, names=['user_id', 'item_id', 'rating', 'timestamp'])\n",
    "\n",
    "print(df.head())"
   ]
  },
  {
   "cell_type": "markdown",
   "metadata": {},
   "source": [
    "## Mapping the value"
   ]
  },
  {
   "cell_type": "code",
   "execution_count": 60,
   "metadata": {},
   "outputs": [
    {
     "name": "stdout",
     "output_type": "stream",
     "text": [
      "   user_id  item_id  rating  timestamp\n",
      "0        0        0       3  881250949\n",
      "1        1        1       3  891717742\n",
      "2        2        2       1  878887116\n",
      "3        3        3       2  880606923\n",
      "4        4        4       1  886397596\n"
     ]
    }
   ],
   "source": [
    "# Take the unique value and mapping it\n",
    "user_mapping = {user_id: idx for idx, user_id in enumerate(df['user_id'].unique())} \n",
    "item_mapping = {item_id: idx for idx, item_id in enumerate(df['item_id'].unique())}\n",
    "\n",
    "# Applying the mappings\n",
    "df['user_id'] = df['user_id'].map(user_mapping)\n",
    "df['item_id'] = df['item_id'].map(item_mapping)\n",
    "\n",
    "print(df.head())"
   ]
  },
  {
   "cell_type": "markdown",
   "metadata": {},
   "source": [
    "## Tranform the data to the matrix "
   ]
  },
  {
   "cell_type": "code",
   "execution_count": 61,
   "metadata": {},
   "outputs": [
    {
     "name": "stdout",
     "output_type": "stream",
     "text": [
      "item_id  0     1     2     3     4     5     6     7     8     9     ...  \\\n",
      "user_id                                                              ...   \n",
      "0        0.50  0.01  0.01  0.01  0.01  0.01  0.01  0.01  0.01  0.01  ...   \n",
      "1        0.01  0.50  0.01  0.01  0.01  0.01  0.01  0.01  0.01  0.01  ...   \n",
      "2        0.01  0.01  0.00  0.01  0.01  0.01  0.50  0.01  0.75  0.01  ...   \n",
      "3        0.01  0.01  0.01  0.25  0.01  0.01  0.75  0.01  0.75  0.75  ...   \n",
      "4        0.01  0.01  0.01  0.01  0.00  0.01  0.01  0.01  0.01  0.01  ...   \n",
      "...       ...   ...   ...   ...   ...   ...   ...   ...   ...   ...  ...   \n",
      "938      0.01  0.01  0.01  0.01  0.01  0.01  0.01  0.01  0.01  0.01  ...   \n",
      "939      0.01  0.01  0.01  0.01  0.75  0.01  0.01  0.01  0.01  0.01  ...   \n",
      "940      0.01  0.01  0.01  0.01  0.01  0.01  0.50  0.01  0.01  0.01  ...   \n",
      "941      0.01  0.75  0.01  0.01  0.75  0.01  0.01  0.01  0.01  0.01  ...   \n",
      "942      0.01  0.01  0.01  0.01  0.01  0.01  0.01  0.01  0.01  0.01  ...   \n",
      "\n",
      "item_id  1672  1673  1674  1675  1676  1677  1678  1679  1680  1681  \n",
      "user_id                                                              \n",
      "0        0.01  0.01  0.01  0.01  0.01  0.01  0.01  0.01  0.01  0.01  \n",
      "1        0.01  0.01  0.01  0.01  0.01  0.01  0.01  0.01  0.01  0.01  \n",
      "2        0.01  0.01  0.01  0.01  0.01  0.01  0.01  0.01  0.01  0.01  \n",
      "3        0.01  0.01  0.01  0.01  0.01  0.01  0.01  0.01  0.01  0.01  \n",
      "4        0.01  0.01  0.01  0.01  0.01  0.01  0.01  0.01  0.01  0.01  \n",
      "...       ...   ...   ...   ...   ...   ...   ...   ...   ...   ...  \n",
      "938      0.01  0.01  0.01  0.01  0.01  0.01  0.01  0.01  0.01  0.01  \n",
      "939      0.01  0.01  0.01  0.01  0.01  0.01  0.01  0.01  0.01  0.01  \n",
      "940      0.01  0.01  0.01  0.01  0.01  0.01  0.01  0.01  0.01  0.01  \n",
      "941      0.01  0.01  0.01  0.01  0.01  0.01  0.01  0.01  0.01  0.01  \n",
      "942      0.01  0.01  0.01  0.01  0.01  0.01  0.01  0.01  0.01  0.01  \n",
      "\n",
      "[943 rows x 1682 columns]\n"
     ]
    }
   ],
   "source": [
    "from sklearn.preprocessing import MinMaxScaler\n",
    "# Normalize ratings to a scale from 0 to 1 (for a better NN)\n",
    "scaler = MinMaxScaler()\n",
    "df['rating']= scaler.fit_transform(df[['rating']])\n",
    "\n",
    "# Convert to a user-item matrix, the missing value will be 0.01 (avoid similar with the rating 1)\n",
    "user_item_matrix = df.pivot(index='user_id', columns='item_id', values='rating').fillna(0.01)\n",
    "\n",
    "print(user_item_matrix)\n",
    "# Convert to numpy array and then to torch tensors\n",
    "user_item_matrix = user_item_matrix.values\n",
    "user_item_matrix_tensor = torch.tensor(user_item_matrix, dtype=torch.float32)"
   ]
  },
  {
   "cell_type": "markdown",
   "metadata": {},
   "source": [
    "## Split the data"
   ]
  },
  {
   "cell_type": "code",
   "execution_count": 62,
   "metadata": {},
   "outputs": [],
   "source": [
    "from utils import transform2d_ml\n",
    "\n",
    "# Create a dataset\n",
    "dataset = TensorDataset(user_item_matrix_tensor)\n",
    "\n",
    "# Split the dataset into 70% training, 15% validation, and 15% test\n",
    "train_size = int(0.7 * len(dataset))\n",
    "val_size = int(0.15 * len(dataset))\n",
    "test_size = len(dataset) - train_size - val_size\n",
    "\n",
    "train_data, val_data, test_data = random_split(dataset , [train_size, val_size, test_size])\n",
    "\n",
    "# Create a dataLoader for training, validation, and testing\n",
    "batch_size = 64\n",
    "train_loader = DataLoader(train_data, batch_size=batch_size, shuffle=True)\n",
    "val_loader = DataLoader(val_data, batch_size=batch_size, shuffle=False)\n",
    "test_loader = DataLoader(test_data, batch_size=batch_size, shuffle=False)"
   ]
  },
  {
   "cell_type": "markdown",
   "metadata": {},
   "source": [
    "## Training"
   ]
  },
  {
   "cell_type": "code",
   "execution_count": 63,
   "metadata": {},
   "outputs": [
    {
     "name": "stdout",
     "output_type": "stream",
     "text": [
      "Epoch 1/25, Train Loss: 0.0522, Val Loss: 0.1709, Time: 0.32s\n",
      "Epoch 2/25, Train Loss: 0.0276, Val Loss: 0.1676, Time: 0.32s\n",
      "Epoch 3/25, Train Loss: 0.0264, Val Loss: 0.1639, Time: 0.33s\n",
      "Epoch 4/25, Train Loss: 0.0259, Val Loss: 0.1622, Time: 0.34s\n",
      "Epoch 5/25, Train Loss: 0.0247, Val Loss: 0.1598, Time: 0.37s\n",
      "Epoch 6/25, Train Loss: 0.0241, Val Loss: 0.1571, Time: 0.43s\n",
      "Epoch 7/25, Train Loss: 0.0226, Val Loss: 0.1514, Time: 0.39s\n",
      "Epoch 8/25, Train Loss: 0.0207, Val Loss: 0.1479, Time: 0.38s\n",
      "Epoch 9/25, Train Loss: 0.0202, Val Loss: 0.1458, Time: 0.59s\n",
      "Epoch 10/25, Train Loss: 0.0193, Val Loss: 0.1441, Time: 0.43s\n",
      "Epoch 11/25, Train Loss: 0.0193, Val Loss: 0.1439, Time: 0.37s\n",
      "Epoch 12/25, Train Loss: 0.0189, Val Loss: 0.1436, Time: 0.38s\n",
      "Epoch 13/25, Train Loss: 0.0190, Val Loss: 0.1434, Time: 0.42s\n",
      "Epoch 14/25, Train Loss: 0.0187, Val Loss: 0.1432, Time: 0.38s\n",
      "Epoch 15/25, Train Loss: 0.0189, Val Loss: 0.1430, Time: 0.39s\n",
      "Epoch 16/25, Train Loss: 0.0188, Val Loss: 0.1428, Time: 0.40s\n",
      "Epoch 17/25, Train Loss: 0.0190, Val Loss: 0.1426, Time: 0.41s\n",
      "Epoch 18/25, Train Loss: 0.0185, Val Loss: 0.1424, Time: 0.41s\n",
      "Epoch 19/25, Train Loss: 0.0185, Val Loss: 0.1422, Time: 0.41s\n",
      "Epoch 20/25, Train Loss: 0.0183, Val Loss: 0.1420, Time: 0.41s\n",
      "Epoch 21/25, Train Loss: 0.0182, Val Loss: 0.1420, Time: 0.42s\n",
      "Epoch 22/25, Train Loss: 0.0182, Val Loss: 0.1420, Time: 0.43s\n",
      "Epoch 23/25, Train Loss: 0.0182, Val Loss: 0.1420, Time: 0.40s\n",
      "Epoch 24/25, Train Loss: 0.0181, Val Loss: 0.1419, Time: 0.40s\n",
      "Epoch 25/25, Train Loss: 0.0185, Val Loss: 0.1419, Time: 0.44s\n"
     ]
    }
   ],
   "source": [
    "from autorec import AutoRec\n",
    "\n",
    "model = AutoRec(user_item_matrix.shape[1], 1000 , device)\n",
    "\n",
    "train_losses, val_losses = model.train_model(train_loader, val_loader,\n",
    "                                         num_epochs=25,lr=0.002, reg=1e-5)"
   ]
  },
  {
   "cell_type": "markdown",
   "metadata": {},
   "source": [
    "## Plot the Error function"
   ]
  },
  {
   "cell_type": "code",
   "execution_count": 64,
   "metadata": {},
   "outputs": [
    {
     "data": {
      "image/png": "[encoded data removed]",
      "text/plain": [
       "<Figure size 640x480 with 1 Axes>"
      ]
     },
     "metadata": {},
     "output_type": "display_data"
    }
   ],
   "source": [
    "plt.plot( train_losses, label=\"Train Loss over epoch\")\n",
    "plt.plot( val_losses, label = \"Val Loss over epoch\")\n",
    "plt.xlabel(\"Epoch\")\n",
    "plt.ylabel(\"Loss\")\n",
    "plt.title(\"Training Loss Curve\")\n",
    "plt.legend()\n",
    "plt.show()"
   ]
  },
  {
   "cell_type": "code",
   "execution_count": 65,
   "metadata": {},
   "outputs": [
    {
     "name": "stdout",
     "output_type": "stream",
     "text": [
      "Test Loss:  tensor(0.1495)\n"
     ]
    }
   ],
   "source": [
    "print(\"Test Loss: \",model.evaluate(test_loader=test_loader))"
   ]
  }
 ],
 "metadata": {
  "kernelspec": {
   "display_name": "AI",
   "language": "python",
   "name": "python3"
  },
  "language_info": {
   "codemirror_mode": {
    "name": "ipython",
    "version": 3
   },
   "file_extension": ".py",
   "mimetype": "text/x-python",
   "name": "python",
   "nbconvert_exporter": "python",
   "pygments_lexer": "ipython3",
   "version": "3.13.2"
  }
 },
 "nbformat": 4,
 "nbformat_minor": 2
}
