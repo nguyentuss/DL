{
 "cells": [
  {
   "cell_type": "code",
   "execution_count": 4,
   "metadata": {},
   "outputs": [],
   "source": [
    "import torch\n",
    "import matplotlib.pyplot as plt\n",
    "\n",
    "device = torch.device(\"cuda\" if torch.cuda.is_available() else \"cpu\")\n",
    "%load_ext autoreload\n",
    "%autoreload 2"
   ]
  },
  {
   "cell_type": "markdown",
   "metadata": {},
   "source": [
    "## Preparing the Test data"
   ]
  },
  {
   "cell_type": "code",
   "execution_count": 5,
   "metadata": {},
   "outputs": [
    {
     "name": "stdout",
     "output_type": "stream",
     "text": [
      "   user_id  item_id  rating  timestamp\n",
      "0        1     1193       5  978300760\n",
      "1        1      661       3  978302109\n",
      "2        1      914       3  978301968\n",
      "3        1     3408       4  978300275\n",
      "4        1     2355       5  978824291\n"
     ]
    }
   ],
   "source": [
    "from torch.utils.data import DataLoader, TensorDataset, random_split\n",
    "import pandas as pd\n",
    "\n",
    "# URL for MovieLens 100k dataset (you can change the URL for other versions)\n",
    "url = '../data/ml-1m/ratings.dat'\n",
    "\n",
    "# Load the dataset directly into a pandas DataFrame\n",
    "df = pd.read_csv(url, sep='::', header=None, names=['user_id', 'item_id', 'rating', 'timestamp'], engine='python')\n",
    "# Display the first few rows to confirm the dataset loaded correctly\n",
    "print(df.head())"
   ]
  },
  {
   "cell_type": "markdown",
   "metadata": {},
   "source": [
    "## Mapping the value"
   ]
  },
  {
   "cell_type": "code",
   "execution_count": 6,
   "metadata": {},
   "outputs": [
    {
     "name": "stdout",
     "output_type": "stream",
     "text": [
      "   user_id  item_id  rating  timestamp\n",
      "0        0        0       5  978300760\n",
      "1        0        1       3  978302109\n",
      "2        0        2       3  978301968\n",
      "3        0        3       4  978300275\n",
      "4        0        4       5  978824291\n"
     ]
    }
   ],
   "source": [
    "# Take the unique value and mapping it\n",
    "user_mapping = {user_id: idx for idx, user_id in enumerate(df['user_id'].unique())} \n",
    "item_mapping = {item_id: idx for idx, item_id in enumerate(df['item_id'].unique())}\n",
    "\n",
    "# Applying the mappings\n",
    "df['user_id'] = df['user_id'].map(user_mapping)\n",
    "df['item_id'] = df['item_id'].map(item_mapping)\n",
    "\n",
    "print(df.head())"
   ]
  },
  {
   "cell_type": "markdown",
   "metadata": {},
   "source": [
    "## Tranform the data to the matrix "
   ]
  },
  {
   "cell_type": "code",
   "execution_count": 7,
   "metadata": {},
   "outputs": [],
   "source": [
    "from sklearn.preprocessing import MinMaxScaler\n",
    "# Normalize ratings to a scale from 0 to 1 (for a better NN)\n",
    "scaler = MinMaxScaler()\n",
    "df['rating']= scaler.fit_transform(df[['rating']])\n",
    "\n",
    "# Convert to a user-item matrix, the missing value will be -1 (we will compute the observe value)\n",
    "user_item_matrix = df.pivot(index='user_id', columns='item_id', values='rating').fillna(-1)\n",
    "\n",
    "# print(user_item_matrix)\n",
    "# Convert to numpy array and then to torch tensors\n",
    "user_item_matrix = user_item_matrix.values\n",
    "user_item_matrix_tensor = torch.tensor(user_item_matrix, dtype=torch.float32)\n",
    "# Create a mask where 1 indicates observed and 0 indicates missing values\n",
    "mask = (user_item_matrix != -1).astype(float)\n",
    "# print(mask)\n",
    "mask = torch.tensor(mask, dtype=torch.float32)"
   ]
  },
  {
   "cell_type": "markdown",
   "metadata": {},
   "source": [
    "## Split the data"
   ]
  },
  {
   "cell_type": "code",
   "execution_count": 8,
   "metadata": {},
   "outputs": [],
   "source": [
    "from utils import transform2d_ml\n",
    "\n",
    "# Create a dataset\n",
    "dataset = TensorDataset(user_item_matrix_tensor, mask)\n",
    "\n",
    "# Split the dataset into 70% training, 15% validation, and 15% test\n",
    "train_size = int(0.7 * len(dataset))\n",
    "val_size = int(0.1 * len(dataset))\n",
    "test_size = len(dataset) - train_size - val_size\n",
    "\n",
    "train_data, val_data, test_data = random_split(dataset , [train_size, val_size, test_size])\n",
    "\n",
    "# Create a dataLoader for training, validation, and testing\n",
    "batch_size = 64\n",
    "train_loader = DataLoader(train_data, batch_size=batch_size, shuffle=True)\n",
    "val_loader = DataLoader(val_data, batch_size=batch_size, shuffle=False)\n",
    "test_loader = DataLoader(test_data, batch_size=batch_size, shuffle=False)"
   ]
  },
  {
   "cell_type": "markdown",
   "metadata": {},
   "source": [
    "## Training"
   ]
  },
  {
   "cell_type": "code",
   "execution_count": 9,
   "metadata": {},
   "outputs": [
    {
     "name": "stdout",
     "output_type": "stream",
     "text": [
      "Epoch 1/25, Train Loss: 0.3661, Val Loss: 0.4802, Time: 1.27s\n",
      "Epoch 2/25, Train Loss: 0.1587, Val Loss: 0.3238, Time: 0.75s\n",
      "Epoch 3/25, Train Loss: 0.0839, Val Loss: 0.2665, Time: 0.75s\n",
      "Epoch 4/25, Train Loss: 0.0657, Val Loss: 0.2525, Time: 0.75s\n",
      "Epoch 5/25, Train Loss: 0.0616, Val Loss: 0.2490, Time: 0.74s\n",
      "Epoch 6/25, Train Loss: 0.0604, Val Loss: 0.2478, Time: 0.78s\n",
      "Epoch 7/25, Train Loss: 0.0599, Val Loss: 0.2473, Time: 0.76s\n",
      "Epoch 8/25, Train Loss: 0.0596, Val Loss: 0.2471, Time: 0.76s\n",
      "Epoch 9/25, Train Loss: 0.0594, Val Loss: 0.2468, Time: 0.75s\n",
      "Epoch 10/25, Train Loss: 0.0593, Val Loss: 0.2467, Time: 0.77s\n",
      "Epoch 11/25, Train Loss: 0.0589, Val Loss: 0.2466, Time: 0.77s\n",
      "Epoch 12/25, Train Loss: 0.0588, Val Loss: 0.2465, Time: 0.75s\n",
      "Epoch 13/25, Train Loss: 0.0588, Val Loss: 0.2465, Time: 0.73s\n",
      "Epoch 14/25, Train Loss: 0.0588, Val Loss: 0.2464, Time: 0.73s\n",
      "Epoch 15/25, Train Loss: 0.0588, Val Loss: 0.2464, Time: 0.74s\n",
      "Epoch 16/25, Train Loss: 0.0587, Val Loss: 0.2464, Time: 0.74s\n",
      "Epoch 17/25, Train Loss: 0.0587, Val Loss: 0.2464, Time: 0.79s\n",
      "Epoch 18/25, Train Loss: 0.0587, Val Loss: 0.2464, Time: 0.74s\n",
      "Epoch 19/25, Train Loss: 0.0587, Val Loss: 0.2463, Time: 0.75s\n",
      "Epoch 20/25, Train Loss: 0.0587, Val Loss: 0.2463, Time: 0.78s\n",
      "Epoch 21/25, Train Loss: 0.0586, Val Loss: 0.2463, Time: 0.75s\n",
      "Epoch 22/25, Train Loss: 0.0586, Val Loss: 0.2463, Time: 0.74s\n",
      "Epoch 23/25, Train Loss: 0.0586, Val Loss: 0.2463, Time: 0.74s\n",
      "Epoch 24/25, Train Loss: 0.0586, Val Loss: 0.2463, Time: 0.75s\n",
      "Epoch 25/25, Train Loss: 0.0586, Val Loss: 0.2463, Time: 0.74s\n"
     ]
    }
   ],
   "source": [
    "from autorec import AutoRec\n",
    "\n",
    "model = AutoRec(user_item_matrix.shape[1], 500 , device)\n",
    "\n",
    "model.to(device)\n",
    "\n",
    "train_losses, val_losses = model.train_model(train_loader, val_loader,\n",
    "                                         num_epochs=25,lr=0.00002, reg=1e-5)"
   ]
  },
  {
   "cell_type": "markdown",
   "metadata": {},
   "source": [
    "## Plot the Error function"
   ]
  },
  {
   "cell_type": "code",
   "execution_count": 10,
   "metadata": {},
   "outputs": [
    {
     "data": {
      "image/png": "[encoded data removed]",
      "text/plain": [
       "<Figure size 640x480 with 1 Axes>"
      ]
     },
     "metadata": {},
     "output_type": "display_data"
    }
   ],
   "source": [
    "plt.plot( train_losses, label=\"Train Loss over epoch\")\n",
    "# plt.plot( val_losses, label = \"Val Loss over epoch\")\n",
    "plt.xlabel(\"Epoch\")\n",
    "plt.ylabel(\"Loss\")\n",
    "plt.title(\"Training Loss Curve\")\n",
    "plt.legend()\n",
    "plt.show()"
   ]
  },
  {
   "cell_type": "code",
   "execution_count": 11,
   "metadata": {},
   "outputs": [
    {
     "name": "stdout",
     "output_type": "stream",
     "text": [
      "0.9880417409406446\n"
     ]
    }
   ],
   "source": [
    "# print(\"Test Loss: \", model.evaluate(test_loader=test_loader))\n",
    "print(4 * model.evaluate(test_loader))\n"
   ]
  }
 ],
 "metadata": {
  "kernelspec": {
   "display_name": "AI",
   "language": "python",
   "name": "python3"
  },
  "language_info": {
   "codemirror_mode": {
    "name": "ipython",
    "version": 3
   },
   "file_extension": ".py",
   "mimetype": "text/x-python",
   "name": "python",
   "nbconvert_exporter": "python",
   "pygments_lexer": "ipython3",
   "version": "3.13.2"
  }
 },
 "nbformat": 4,
 "nbformat_minor": 2
}
